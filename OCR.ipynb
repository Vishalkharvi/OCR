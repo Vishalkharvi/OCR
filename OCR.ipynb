{
 "cells": [
  {
   "cell_type": "code",
   "execution_count": 1,
   "metadata": {},
   "outputs": [],
   "source": [
    "from tkinter import *\n",
    "from PIL import ImageTk,Image\n",
    "from tkinter import filedialog\n",
    "import pytesseract as py\n",
    "py.pytesseract.tesseract_cmd= r'C:\\Users\\vishalkharvi\\Downloads\\tesseract.exe'"
   ]
  },
  {
   "cell_type": "code",
   "execution_count": null,
   "metadata": {},
   "outputs": [],
   "source": [
    "win=Tk()\n",
    "win.title(\"OCR\")\n",
    "win.geometry(\"500x600\")\n",
    "win.resizable(width=True, height=True)\n",
    "\n",
    "label1=Label(win, text=\"P-OCR\", font=(\"times new roman\",25, \"bold\"),bg=\"blue\",fg=\"red\")\n",
    "label1.pack(side=BOTTOM, fill=BOTH, expand=\"yes\")\n",
    "\n",
    "def open_file():\n",
    "    file=filedialog.askopenfile(title=\"select\")\n",
    "    return file\n",
    "\n",
    "def open_():\n",
    "    path=open_file()\n",
    "    image_path=path.name\n",
    "    splitted_path=image_path.split(\"/\")\n",
    "    backslash=\"\\\\\\\\\"\n",
    "    norm_path=backslash.join(splitted_path)\n",
    "    opened_image=Image.open(norm_path)\n",
    "    Texts_from_image=py.image_to_string(opened_image,lang='kan')\n",
    "    extracted_text_from_image=\"\"\n",
    "    extracted_text_from_image= extracted_text_from_image+str(Texts_from_image)\n",
    "#     print(extracted_text_from_image)\n",
    "\n",
    "    win1=Tk()\n",
    "    win1.geometry(\"500x600\")\n",
    "    Label(win1, text=\"extracted texts\").pack(side=TOP)\n",
    "    T=Text(win1)\n",
    "    T.delete(1.0,END)\n",
    "    T.insert(1.0,extracted_text_from_image)\n",
    "    T.pack()\n",
    "\n",
    "\n",
    "button=Button(win, text=\" select\", font=(\"arial\",25,\"bold\"),command=open_)\n",
    "button.pack()\n",
    "\n",
    "\n",
    "win.mainloop()\n"
   ]
  },
  {
   "cell_type": "code",
   "execution_count": null,
   "metadata": {},
   "outputs": [],
   "source": []
  }
 ],
 "metadata": {
  "kernelspec": {
   "display_name": "Python 3",
   "language": "python",
   "name": "python3"
  },
  "language_info": {
   "codemirror_mode": {
    "name": "ipython",
    "version": 3
   },
   "file_extension": ".py",
   "mimetype": "text/x-python",
   "name": "python",
   "nbconvert_exporter": "python",
   "pygments_lexer": "ipython3",
   "version": "3.7.3"
  }
 },
 "nbformat": 4,
 "nbformat_minor": 2
}
